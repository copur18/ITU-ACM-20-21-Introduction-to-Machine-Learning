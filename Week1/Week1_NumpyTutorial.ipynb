{
  "nbformat": 4,
  "nbformat_minor": 0,
  "metadata": {
    "colab": {
      "name": "Week1_NumpyTutorial.ipynb",
      "provenance": [],
      "collapsed_sections": [],
      "toc_visible": true
    },
    "kernelspec": {
      "name": "python3",
      "display_name": "Python 3"
    }
  },
  "cells": [
    {
      "cell_type": "markdown",
      "metadata": {
        "id": "E614y4JDRVG8"
      },
      "source": [
        "#ITUACM Machine Learning Study Group Week 1 NumPy Tutorial"
      ]
    },
    {
      "cell_type": "markdown",
      "metadata": {
        "id": "Ase1hXGxRbqd"
      },
      "source": [
        "NumPy is an open source Python library for using numerical computations as well as manipulating arrays and large dimentional matrices. The NumPy makes the operations faster by 50x compared to standard build-in lists that Python has. <br />\n",
        "The array type of NumPy is called <b>ndarray</b> which is n-dimensional array that supports different kind of matrix operations such as multiplication and calculates them very fast compared naive implementations.<br />\n",
        "Although it is a Python library which has written in Python partially, the implementations of operations are implemented in C/C++ to make them faster.<br/>\n",
        "Why they important? Because NumPy is one of the main libraries that is used in Data Science field. Its speed and easy syntax makes it likable in Data Science community. It is like equivalent to Matlab. It is also Open Source. "
      ]
    },
    {
      "cell_type": "code",
      "metadata": {
        "id": "hJs-vrtoT8Y7"
      },
      "source": [
        "import numpy as np # frequently used with np alias"
      ],
      "execution_count": 4,
      "outputs": []
    },
    {
      "cell_type": "markdown",
      "metadata": {
        "id": "SeRkftsmT5_k"
      },
      "source": [
        "##N dimensional Array"
      ]
    },
    {
      "cell_type": "markdown",
      "metadata": {
        "id": "g5Sz9NTPVEVN"
      },
      "source": [
        "###Initialization\n"
      ]
    },
    {
      "cell_type": "code",
      "metadata": {
        "id": "0QNq-gacT4JB",
        "outputId": "dfa779ea-d906-47b7-df58-ac9b8b297a14",
        "colab": {
          "base_uri": "https://localhost:8080/"
        }
      },
      "source": [
        "#Creating one\n",
        "one_dim_array = np.array([1, 2, 3, 4])\n",
        "print(\"One Dimensional Array: \", one_dim_array)\n",
        "\n",
        "#Adding Dimensions\n",
        "two_dim_array = np.array([[1,2], [3,4]])\n",
        "print(\"Two Dimensional Array: \\n\", two_dim_array)\n",
        "\n",
        "print(\"\\n\")\n",
        "\n",
        "# The dimensions can be printed out using .shape property\n",
        "print(one_dim_array.shape)\n",
        "print(two_dim_array.shape)\n",
        "\n",
        "print(\"\\n\")\n",
        "\n",
        "# The types for all matrices are same\n",
        "print(type(one_dim_array))\n",
        "print(type(two_dim_array))"
      ],
      "execution_count": null,
      "outputs": [
        {
          "output_type": "stream",
          "text": [
            "One Dimensional Array:  [1 2 3 4]\n",
            "Two Dimensional Array: \n",
            " [[1 2]\n",
            " [3 4]]\n",
            "\n",
            "\n",
            "(4,)\n",
            "(2, 2)\n",
            "\n",
            "\n",
            "<class 'numpy.ndarray'>\n",
            "<class 'numpy.ndarray'>\n"
          ],
          "name": "stdout"
        }
      ]
    },
    {
      "cell_type": "code",
      "metadata": {
        "id": "QvZjD8IkNEWn",
        "outputId": "80e6899d-c600-4fca-9e2d-1e0cdb265735",
        "colab": {
          "base_uri": "https://localhost:8080/"
        }
      },
      "source": [
        "#Lists can be converted to NumPy arrays as well\n",
        "python_list = [1, 2, 3, 4, 5]\n",
        "print(\"Python list has type of \", type(python_list))\n",
        "\n",
        "numpy_array = np.array(python_list)\n",
        "print(\"Python list has become: \", type(numpy_array))"
      ],
      "execution_count": null,
      "outputs": [
        {
          "output_type": "stream",
          "text": [
            "Python list has type of  <class 'list'>\n",
            "Python list has become:  <class 'numpy.ndarray'>\n"
          ],
          "name": "stdout"
        }
      ]
    },
    {
      "cell_type": "code",
      "metadata": {
        "id": "5_L8c_dPVh8j",
        "outputId": "0b0cb88e-380f-4d59-8815-05c403c8afa8",
        "colab": {
          "base_uri": "https://localhost:8080/"
        }
      },
      "source": [
        "# Different types of ndarrays \n",
        "\n",
        "array_with_zeros = np.zeros((4,4))\n",
        "print(\"Array with Zeros: \\n\", array_with_zeros)\n",
        "\n",
        "array_with_ones = np.ones((4, 4))\n",
        "print(\"\\nArray with Ones: \\n\", array_with_ones)\n",
        "\n",
        "array_with_specific_number = np.full((4,4), fill_value=420)\n",
        "print(\"\\nArray filled with 420: \\n\", array_with_specific_number)\n",
        "\n",
        "identity = np.eye(5)\n",
        "print(\"\\nIdentity Matrix: \\n\", identity)\n",
        "\n",
        "uniform_random_array = np.random.rand(4,4)\n",
        "print(\"\\nUniformly randomized array: \\n\", uniform_random_array)\n",
        "\n",
        "normal_random_array = np.random.randn(4,4)\n",
        "print(\"\\nRandomized from normal distribution : \\n\", normal_random_array)\n"
      ],
      "execution_count": null,
      "outputs": [
        {
          "output_type": "stream",
          "text": [
            "Array with Zeros: \n",
            " [[0. 0. 0. 0.]\n",
            " [0. 0. 0. 0.]\n",
            " [0. 0. 0. 0.]\n",
            " [0. 0. 0. 0.]]\n",
            "\n",
            "Array with Ones: \n",
            " [[1. 1. 1. 1.]\n",
            " [1. 1. 1. 1.]\n",
            " [1. 1. 1. 1.]\n",
            " [1. 1. 1. 1.]]\n",
            "\n",
            "Array filled with 420: \n",
            " [[420 420 420 420]\n",
            " [420 420 420 420]\n",
            " [420 420 420 420]\n",
            " [420 420 420 420]]\n",
            "\n",
            "Identity Matrix: \n",
            " [[1. 0. 0. 0. 0.]\n",
            " [0. 1. 0. 0. 0.]\n",
            " [0. 0. 1. 0. 0.]\n",
            " [0. 0. 0. 1. 0.]\n",
            " [0. 0. 0. 0. 1.]]\n",
            "\n",
            "Uniformly randomized array: \n",
            " [[0.86204469 0.54048305 0.31070118 0.6788563 ]\n",
            " [0.27762623 0.30926782 0.12060392 0.06682801]\n",
            " [0.83016667 0.60562849 0.00697962 0.78081625]\n",
            " [0.53467758 0.2027848  0.36999114 0.23585234]]\n",
            "\n",
            "Randomized from normal distribution : \n",
            " [[ 0.49394026 -0.41534193  0.06878171  0.56223496]\n",
            " [-0.58970596 -0.65313702 -0.97497296 -0.13446221]\n",
            " [ 0.40618589  0.15425842  1.92247816 -0.00546816]\n",
            " [-0.82122236  0.81223366  0.82065327 -0.17716924]]\n"
          ],
          "name": "stdout"
        }
      ]
    },
    {
      "cell_type": "markdown",
      "metadata": {
        "id": "el3cqFijXAt0"
      },
      "source": [
        "### Indexing"
      ]
    },
    {
      "cell_type": "code",
      "metadata": {
        "id": "XqV3VYXUWaA1",
        "outputId": "20ff6ebf-ce85-4f0e-fe1d-fa1e09969d67",
        "colab": {
          "base_uri": "https://localhost:8080/"
        }
      },
      "source": [
        "random_array = np.random.rand(5,5)\n",
        "\n",
        "print(random_array)\n",
        "print(\"\\nThird Row Second Column number is: \", random_array[2][1], random_array[2,1])\n",
        "\n",
        "# Slicing arrays [start:end], [start:end:step]\n",
        "print(\"\\nFirst three rows of first column: \", random_array[:3, 0])\n",
        "print(\"\\nForth Column: \", random_array[:, 3])\n",
        "print(\"\\nLast Row 3rd, 4th, 5th columns: \", random_array[4, 2:])\n",
        "\n",
        "\n",
        "#Specified Elements of the Array\n",
        "print(\"\\nOdd numbered rows', even numbered col's: \", random_array[[0,2], [1,3]])"
      ],
      "execution_count": null,
      "outputs": [
        {
          "output_type": "stream",
          "text": [
            "[[0.02734972 0.26196354 0.27859551 0.17464608 0.09240056]\n",
            " [0.38841197 0.74485639 0.702337   0.38718983 0.37664158]\n",
            " [0.97191497 0.67159276 0.54221736 0.73768186 0.26207801]\n",
            " [0.86719625 0.52354714 0.95036006 0.18669045 0.92289102]\n",
            " [0.61734988 0.31258307 0.85594739 0.42670378 0.36133139]]\n",
            "\n",
            "Third Row Second Column number is:  0.671592762381243 0.671592762381243\n",
            "\n",
            "First three rows of first column:  [0.02734972 0.38841197 0.97191497]\n",
            "\n",
            "Forth Column:  [0.17464608 0.38718983 0.73768186 0.18669045 0.42670378]\n",
            "\n",
            "Last Row 3rd, 4th, 5th columns:  [0.85594739 0.42670378 0.36133139]\n",
            "\n",
            " Odd numbered rows', even numbered col's:  [0.26196354 0.73768186]\n"
          ],
          "name": "stdout"
        }
      ]
    },
    {
      "cell_type": "markdown",
      "metadata": {
        "id": "9FzVd5krbTR1"
      },
      "source": [
        "###Reshaping"
      ]
    },
    {
      "cell_type": "code",
      "metadata": {
        "id": "WuC-BYErbVYA",
        "outputId": "ed0f0c94-7db5-47b2-e411-fb75bc255200",
        "colab": {
          "base_uri": "https://localhost:8080/"
        }
      },
      "source": [
        "random_array = np.random.rand(6,6)\n",
        "\n",
        "print(random_array)\n",
        "#Reshaping array using .reshape()\n",
        "print(\"\\nNew 9x4 reshaped array: \\n\", random_array.reshape(9,4))\n",
        "print(\"\\nNew 2x18 reshaped array: \\n\", random_array.reshape(2,18))\n",
        "#Reshape with one dimension unknown\n",
        "print(\"\\nNew array with one dimension unknown: \\n\", random_array.reshape(-1, 3)) #(R,G,B), (33, 1) -> (11,3)\n",
        "print(random_array.shape)\n",
        "#Resizing with .resize()\n",
        "print(\"\\nNew array with row dimension unknown: \\n\", random_array.resize(3, 12))\n",
        "print(random_array.shape)"
      ],
      "execution_count": null,
      "outputs": [
        {
          "output_type": "stream",
          "text": [
            "[[0.42007928 0.24409884 0.08991243 0.45186134 0.19612368 0.71365663]\n",
            " [0.6088135  0.74998667 0.21653761 0.97227793 0.13521129 0.30496505]\n",
            " [0.88279783 0.68543458 0.00253398 0.77825529 0.66947451 0.84149301]\n",
            " [0.13071282 0.21160246 0.93087934 0.18721519 0.76130633 0.95770037]\n",
            " [0.92076717 0.11492872 0.82390475 0.58401771 0.0597642  0.06587952]\n",
            " [0.87901096 0.72735482 0.29011357 0.08687693 0.32299664 0.997068  ]]\n",
            "\n",
            "New 9x4 reshaped array: \n",
            " [[0.42007928 0.24409884 0.08991243 0.45186134]\n",
            " [0.19612368 0.71365663 0.6088135  0.74998667]\n",
            " [0.21653761 0.97227793 0.13521129 0.30496505]\n",
            " [0.88279783 0.68543458 0.00253398 0.77825529]\n",
            " [0.66947451 0.84149301 0.13071282 0.21160246]\n",
            " [0.93087934 0.18721519 0.76130633 0.95770037]\n",
            " [0.92076717 0.11492872 0.82390475 0.58401771]\n",
            " [0.0597642  0.06587952 0.87901096 0.72735482]\n",
            " [0.29011357 0.08687693 0.32299664 0.997068  ]]\n",
            "\n",
            "New 2x18 reshaped array: \n",
            " [[0.42007928 0.24409884 0.08991243 0.45186134 0.19612368 0.71365663\n",
            "  0.6088135  0.74998667 0.21653761 0.97227793 0.13521129 0.30496505\n",
            "  0.88279783 0.68543458 0.00253398 0.77825529 0.66947451 0.84149301]\n",
            " [0.13071282 0.21160246 0.93087934 0.18721519 0.76130633 0.95770037\n",
            "  0.92076717 0.11492872 0.82390475 0.58401771 0.0597642  0.06587952\n",
            "  0.87901096 0.72735482 0.29011357 0.08687693 0.32299664 0.997068  ]]\n",
            "\n",
            "New array with one dimension unknown: \n",
            " [[0.42007928 0.24409884 0.08991243]\n",
            " [0.45186134 0.19612368 0.71365663]\n",
            " [0.6088135  0.74998667 0.21653761]\n",
            " [0.97227793 0.13521129 0.30496505]\n",
            " [0.88279783 0.68543458 0.00253398]\n",
            " [0.77825529 0.66947451 0.84149301]\n",
            " [0.13071282 0.21160246 0.93087934]\n",
            " [0.18721519 0.76130633 0.95770037]\n",
            " [0.92076717 0.11492872 0.82390475]\n",
            " [0.58401771 0.0597642  0.06587952]\n",
            " [0.87901096 0.72735482 0.29011357]\n",
            " [0.08687693 0.32299664 0.997068  ]]\n",
            "(6, 6)\n",
            "\n",
            "New array with row dimension unknown: \n",
            " None\n",
            "(3, 12)\n"
          ],
          "name": "stdout"
        }
      ]
    },
    {
      "cell_type": "markdown",
      "metadata": {
        "id": "FNX-_g1ieakU"
      },
      "source": [
        "## Matrix Operations\n",
        "There are 4 simple operations\n",
        "- Addition\n",
        "- Subtraction\n",
        "- Multiplication\n",
        "- Division\n",
        "\n",
        "all of those are calculated element-wise"
      ]
    },
    {
      "cell_type": "code",
      "metadata": {
        "id": "7lXJBKWkXVk-"
      },
      "source": [
        "temp_arr = np.array([[1,2], [3,4]])\n",
        "\n",
        "print(\"Addition: \\n\", temp_arr + temp_arr)\n",
        "\n",
        "print(\"\\nSubtract: \\n\", temp_arr - temp_arr)\n",
        "\n",
        "print(\"\\nMultiply: \\n\", temp_arr * temp_arr)\n",
        "\n",
        "print(\"\\nDivision: \\n\", temp_arr/temp_arr)\n",
        "\n",
        "print(\"\\nAdd a scalar: \\n\", temp_arr + 5) #[[7,8], [7,8]]\n",
        "print(\"\\nAdd a vector: \\n\", temp_arr + [7, 8, 9])"
      ],
      "execution_count": null,
      "outputs": []
    },
    {
      "cell_type": "code",
      "metadata": {
        "id": "I_7zzCFvfFTY",
        "outputId": "1d55f829-3151-4356-b14a-b652b5993b37",
        "colab": {
          "base_uri": "https://localhost:8080/"
        }
      },
      "source": [
        "temp_arr = np.random.rand(3,4)\n",
        "print(temp_arr)\n",
        "\n",
        "print(\"\\nSum with axis=0: \\n\", np.sum(temp_arr, axis=0))\n",
        "print(\"\\nSum with axis=1: \\n\", np.sum(temp_arr, axis=1))\n",
        "\n",
        "#Dot Product\n",
        "\n",
        "print(\"Dot product of itself: \\n\", np.dot(temp_arr, temp_arr.T)) # (3,4) x (4,3)"
      ],
      "execution_count": null,
      "outputs": [
        {
          "output_type": "stream",
          "text": [
            "[[0.64670825 0.5821952  0.07903    0.33532609]\n",
            " [0.77355895 0.75505943 0.05933346 0.23381911]\n",
            " [0.87282555 0.95174777 0.277755   0.6776562 ]]\n",
            "\n",
            "Sum with axis=0: \n",
            " [2.29309276 2.28900241 0.41611846 1.24680139]\n",
            "\n",
            "Sum with axis=1: \n",
            " [1.64325954 1.82177095 2.77998453]\n",
            "Dot product of itself: \n",
            " [[0.87587214 1.02295371 1.36775326]\n",
            " [1.02295371 1.22670003 1.56873729]\n",
            " [1.36775326 1.56873729 2.20401404]]\n"
          ],
          "name": "stdout"
        }
      ]
    },
    {
      "cell_type": "markdown",
      "metadata": {
        "id": "NLWsXJIpgK-i"
      },
      "source": [
        "##Vectorization"
      ]
    },
    {
      "cell_type": "code",
      "metadata": {
        "id": "sB-IohUPf4eE",
        "outputId": "397fb0fc-1f9f-4d23-e5f7-bf16b66d9677",
        "colab": {
          "base_uri": "https://localhost:8080/"
        }
      },
      "source": [
        "import time\n",
        "#vectorization\n",
        "\n",
        "rand_arr1 = np.random.randn(1000,)\n",
        "rand_arr2 = np.random.randn(1000,)\n",
        "\n",
        "\n",
        "#Classic Dot Product\n",
        "temp = 0\n",
        "tik = time.process_time()\n",
        "for i in range(1000):\n",
        "  temp = temp + float(rand_arr1[i]*rand_arr2[i])\n",
        "tok = time.process_time()\n",
        "print(\"Without vectorization (in milliseconds): \"+str((tok-tik)*1000))\n",
        "\n",
        "tik = time.time()\n",
        "temp = np.dot(rand_arr1, rand_arr2)\n",
        "tok = time.time()\n",
        "print(\"\\nWith vectorization (in milliseconds): \" +str((tok-tik)*1000))\n",
        "\n",
        "print(\"\\n------------------------------------------------------------\\n\")\n",
        "\n",
        "#Outer Product\n",
        "tic = time.process_time()\n",
        "outer = np.zeros((len(rand_arr1),len(rand_arr2)))\n",
        "for i in range(len(rand_arr1)):\n",
        "    for j in range(len(rand_arr2)):\n",
        "        outer[i,j] = rand_arr1[i]*rand_arr2[j]\n",
        "toc = time.process_time()\n",
        "print(\"\\nOuter Product without vectorization (in milliseconds): \" + str((toc-tic)*1000))\n",
        "\n",
        "tic = time.process_time()\n",
        "outer = np.zeros((len(rand_arr1),len(rand_arr2)))\n",
        "outer = np.outer(rand_arr1, rand_arr2)\n",
        "toc = time.process_time()\n",
        "print(\"\\nOuter Product: with vectorization (in milliseconds): \" + str((toc-tic)*1000))\n",
        "\n",
        "print(\"\\n------------------------------------------------------------\\n\")\n",
        "\n",
        "#Elementwise Multiplication\n",
        "mul = np.zeros((1000,))\n",
        "tik = time.process_time()\n",
        "for i in range(1000):\n",
        "    mul[i] = rand_arr1[i]*rand_arr2[i]\n",
        "tok = time.process_time()\n",
        "print(\"\\nElementwise multiplication without vectorization(in milliseconds): \"+str((tok-tik)*1000))\n",
        "\n",
        "\n",
        "tik = time.process_time()\n",
        "mul = np.multiply(rand_arr1, rand_arr2)\n",
        "tok = time.process_time()\n",
        "print(\"\\nElementwise multiplication with vectorization(in milliseconds): \"+str((tok-tik)*1000))"
      ],
      "execution_count": null,
      "outputs": [
        {
          "output_type": "stream",
          "text": [
            "Without vectorization (in milliseconds): 0.6976970000001081\n",
            "\n",
            "With vectorization (in milliseconds): 0.3483295440673828\n",
            "\n",
            "------------------------------------------------------------\n",
            "\n",
            "\n",
            "Outer Product without vectorization (in milliseconds): 591.5817419999998\n",
            "\n",
            "Outer Product: with vectorization (in milliseconds): 9.784122000000117\n",
            "\n",
            "------------------------------------------------------------\n",
            "\n",
            "\n",
            "Elementwise multiplication without vectorization(in milliseconds): 0.5925799999997317\n",
            "\n",
            "Elementwise multiplication with vectorization(in milliseconds): 0.10083800000026955\n"
          ],
          "name": "stdout"
        }
      ]
    },
    {
      "cell_type": "markdown",
      "metadata": {
        "id": "jvfZFmcK5xth"
      },
      "source": [
        "#Exercises"
      ]
    },
    {
      "cell_type": "code",
      "metadata": {
        "id": "OBkghEa-gMfD"
      },
      "source": [
        "def CreateAnArray(shape):\n",
        "  #Given shape as a parameter return, the shape will be 2 dimensional\n",
        "  # - array of zeros, array of ones, array of uniformly sampled random array\n",
        "\n",
        "  array_of_zeros = None\n",
        "  array_of_ones = None\n",
        "  array_of_uniform_random = None\n",
        "\n",
        "  return [array_of_zeros, array_of_ones, array_of_uniform_random]"
      ],
      "execution_count": 52,
      "outputs": []
    },
    {
      "cell_type": "code",
      "metadata": {
        "id": "4IMM1pcm8QQ1"
      },
      "source": [
        "def IndexingArray(arr):\n",
        "  # Given numpy array as a parameter output required indexed elements\n",
        "  # Do not worry about the array shape\n",
        "  # The array provided will 2 dimensional\n",
        "\n",
        "  # Return 2nd and 4th rows of the given array\n",
        "  arr1 = None\n",
        "\n",
        "  # Return 1st, 3rd, and 5th columns of given array\n",
        "  arr2 = None\n",
        "\n",
        "  # Return 1st row 2nd column indexed number and 3rd row 4th column indexed number\n",
        "  arr3 = None\n",
        "\n",
        "  # Return diagonal of an array \n",
        "  #(Hint: Check -> https://numpy.org/doc/stable/reference/generated/numpy.diag.html)\n",
        "  arr4 = None\n",
        "\n",
        "  return [arr1, arr2, arr3, arr4]"
      ],
      "execution_count": 53,
      "outputs": []
    },
    {
      "cell_type": "code",
      "metadata": {
        "id": "VUfEWTWV-A-c"
      },
      "source": [
        "def ReshapingArray(arr):\n",
        "  # Given NumPy array as a parameter, reshape the array to required shapes\n",
        "  # Do not worry about the shape of initial array\n",
        "\n",
        "  # Flatten the array (convert array to vector (keep the second dimension))\n",
        "  arr1 = None\n",
        "\n",
        "  # Change the swap row and column shape with each other, (row, col) => (col, row)\n",
        "  arr2 = None\n",
        "\n",
        "  # Increase the dimension of the array by making the last dimension 1\n",
        "  arr3 = None\n",
        "\n",
        "  return arr1, arr2, arr3"
      ],
      "execution_count": 54,
      "outputs": []
    },
    {
      "cell_type": "code",
      "metadata": {
        "id": "lboMNoE_-K5S"
      },
      "source": [
        "def MatrixOperations(z):\n",
        "  # Given NumPy array, implement the given equations \n",
        "\n",
        "  # Implement the sigmoid equation\n",
        "  # Sigmoid Equation: https://en.wikipedia.org/wiki/Sigmoid_function\n",
        "  sigmoid = None\n",
        "\n",
        "  # Implement the hyperbolic equations\n",
        "  # Do not use the build in functions, implement the following:\n",
        "  # https://en.wikipedia.org/wiki/Hyperbolic_functions#Definitions\n",
        "  sinh = None\n",
        "  cosh = None\n",
        "  tanh = None\n",
        "  coth = None\n",
        "\n",
        "  # Implement the ELU function described here:\n",
        "  # https://en.wikipedia.org/wiki/Rectifier_(neural_networks)#ELU\n",
        "  # Select the hyper-parameter 'a' as 1\n",
        "  elu = None\n",
        "\n",
        "  return sigmoid, sinh, cosh, tanh, coth, elu"
      ],
      "execution_count": 55,
      "outputs": []
    },
    {
      "cell_type": "markdown",
      "metadata": {
        "id": "MVDLvxQnCVgV"
      },
      "source": [
        "# Test\n",
        "Run this block<br/>\n",
        "If all 4 parts pass the test, the exercise is complete<br/>\n",
        "Otherwise check the related part of the code."
      ]
    },
    {
      "cell_type": "code",
      "metadata": {
        "id": "kQ9S7Ig7CX6l"
      },
      "source": [
        "np.random.seed(42) # making sure random arrays output same thing\n",
        "arrays = CreateAnArray((5,5))\n",
        "assert arrays[0].all() == np.zeros((5,5)).all(), \"Problem with zeros array initialization\"\n",
        "assert arrays[1].all() == np.ones((5,5)).all(), \"Problem with ones array initialization\"\n",
        "assert arrays[2].all() == np.random.rand(5,5).all(), \"Problem with random array initialization\"\n",
        "print(\"Matrix Initialization part Passed the tests!\")\n",
        "\n",
        "param_arr = np.random.rand(5,5)\n",
        "arrays = IndexingArray(param_arr)\n",
        "assert arrays[0].all() == param_arr[[1, 3], :].all(), \"Wrong array indexes for arr1\"\n",
        "assert arrays[1].all() == param_arr[:, [0, 2, 4]].all(), \"Wrong array indexes for arr2\"\n",
        "assert arrays[2].all() == param_arr[[0, 2], [1, 3]].all(), \"Wrong array indexes for arr3\"\n",
        "assert arrays[3].all() == np.diag(param_arr).all(), \"Wrong array indexes for arr4\"\n",
        "print(\"Indexing Array part Passed the tests!\")\n",
        "\n",
        "param_arr2 = np.random.rand(5,6)\n",
        "arrays = ReshapingArray(param_arr2)\n",
        "assert arrays[0].all() == param_arr2.reshape(-1, 1).all(), \"Wrong shape for arr1\"\n",
        "assert arrays[1].all() == param_arr2.T.all(), \"Wrong shape for arr2\"\n",
        "assert arrays[2].all() == param_arr2.reshape(5,6,1).all(), \"Wrong shape for arr3\"\n",
        "print(\"Reshaping Array part Passed the tests!\")\n",
        "\n",
        "param_arr3 = np.random.rand(1,)\n",
        "arrays = MatrixOperations(param_arr3)\n",
        "assert arrays[0] == 1/(1+np.exp(-param_arr3)), \"Wrong output for sigmoid, expected\" + str(1/(1+np.exp(-param_arr3))) + \" got \" + str(arrays[0])\n",
        "assert arrays[1] == np.sinh(param_arr3), \"Wrong output for sigmoid, expected\" + str(np.sinh(param_arr3)) + \" got \" + str(arrays[1])\n",
        "assert arrays[2] == np.cosh(param_arr3), \"Wrong output for sigmoid, expected\" + str(np.cosh(param_arr3)) + \" got \" + str(arrays[2])\n",
        "assert arrays[3] == np.tanh(param_arr3), \"Wrong output for sigmoid, expected\" + str(np.tanh(param_arr3)) + \" got \" + str(arrays[3])\n",
        "assert arrays[4] == 1/np.tanh(param_arr3), \"Wrong output for sigmoid, expected\" + str(1/np.tanh(param_arr3)) + \" got \" + str(arrays[4])\n",
        "assert arrays[5] == [(np.exp(param_arr3)-1) if param_arr3 <= 0 else param_arr3], \"Wrong output for sigmoid, expected\" + str([(np.exp(param_arr3)-1) if param_arr3 <= 0 else param_arr3]) + \" got \" + str(arrays[5])\n",
        "print(\"Matrix Operations part Passed the tests!\")"
      ],
      "execution_count": null,
      "outputs": []
    },
    {
      "cell_type": "code",
      "metadata": {
        "id": "Jqx7LHwpKFi1"
      },
      "source": [
        ""
      ],
      "execution_count": null,
      "outputs": []
    }
  ]
}