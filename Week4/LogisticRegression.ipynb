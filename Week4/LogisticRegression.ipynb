{
  "nbformat": 4,
  "nbformat_minor": 0,
  "metadata": {
    "colab": {
      "name": "LogisticRegression.ipynb",
      "provenance": [],
      "collapsed_sections": []
    },
    "kernelspec": {
      "name": "python3",
      "display_name": "Python 3"
    }
  },
  "cells": [
    {
      "cell_type": "code",
      "metadata": {
        "colab": {
          "base_uri": "https://localhost:8080/"
        },
        "id": "w4AUYKaHFNLB",
        "outputId": "82160b90-6872-419f-9913-7a802ed4ae3e"
      },
      "source": [
        "import torch\n",
        "import torch.nn as nn\n",
        "import torch.nn.functional as F\n",
        "import torch.optim as optim\n",
        "import numpy as np\n",
        "import pandas as pd\n",
        "from torch.utils.data import Dataset, DataLoader, TensorDataset\n",
        "import nltk   \n",
        "nltk.download('punkt') \n",
        "nltk.download('stopwords')\n",
        "from nltk.corpus import stopwords       \n",
        "from nltk.stem import PorterStemmer        \n",
        "import string\n",
        "import re"
      ],
      "execution_count": null,
      "outputs": [
        {
          "output_type": "stream",
          "text": [
            "[nltk_data] Downloading package punkt to /root/nltk_data...\n",
            "[nltk_data]   Package punkt is already up-to-date!\n",
            "[nltk_data] Downloading package stopwords to /root/nltk_data...\n",
            "[nltk_data]   Package stopwords is already up-to-date!\n"
          ],
          "name": "stdout"
        }
      ]
    },
    {
      "cell_type": "markdown",
      "metadata": {
        "id": "GIz-Tv79JyNC"
      },
      "source": [
        "##Preprocessing"
      ]
    },
    {
      "cell_type": "code",
      "metadata": {
        "colab": {
          "base_uri": "https://localhost:8080/",
          "height": 204
        },
        "id": "wa0QDT3BJxwj",
        "outputId": "b6c7e0de-9719-42a8-d6cf-fd490072fcaa"
      },
      "source": [
        "df = pd.read_csv(\"amazon_cells_labelled.txt\", sep=\"\\t\", header=None)\n",
        "df2 = pd.read_csv(\"yelp_labelled.txt\", sep=\"\\t\", header=None)\n",
        "df2.head()"
      ],
      "execution_count": null,
      "outputs": [
        {
          "output_type": "execute_result",
          "data": {
            "text/html": [
              "<div>\n",
              "<style scoped>\n",
              "    .dataframe tbody tr th:only-of-type {\n",
              "        vertical-align: middle;\n",
              "    }\n",
              "\n",
              "    .dataframe tbody tr th {\n",
              "        vertical-align: top;\n",
              "    }\n",
              "\n",
              "    .dataframe thead th {\n",
              "        text-align: right;\n",
              "    }\n",
              "</style>\n",
              "<table border=\"1\" class=\"dataframe\">\n",
              "  <thead>\n",
              "    <tr style=\"text-align: right;\">\n",
              "      <th></th>\n",
              "      <th>0</th>\n",
              "      <th>1</th>\n",
              "    </tr>\n",
              "  </thead>\n",
              "  <tbody>\n",
              "    <tr>\n",
              "      <th>0</th>\n",
              "      <td>Wow... Loved this place.</td>\n",
              "      <td>1</td>\n",
              "    </tr>\n",
              "    <tr>\n",
              "      <th>1</th>\n",
              "      <td>Crust is not good.</td>\n",
              "      <td>0</td>\n",
              "    </tr>\n",
              "    <tr>\n",
              "      <th>2</th>\n",
              "      <td>Not tasty and the texture was just nasty.</td>\n",
              "      <td>0</td>\n",
              "    </tr>\n",
              "    <tr>\n",
              "      <th>3</th>\n",
              "      <td>Stopped by during the late May bank holiday of...</td>\n",
              "      <td>1</td>\n",
              "    </tr>\n",
              "    <tr>\n",
              "      <th>4</th>\n",
              "      <td>The selection on the menu was great and so wer...</td>\n",
              "      <td>1</td>\n",
              "    </tr>\n",
              "  </tbody>\n",
              "</table>\n",
              "</div>"
            ],
            "text/plain": [
              "                                                   0  1\n",
              "0                           Wow... Loved this place.  1\n",
              "1                                 Crust is not good.  0\n",
              "2          Not tasty and the texture was just nasty.  0\n",
              "3  Stopped by during the late May bank holiday of...  1\n",
              "4  The selection on the menu was great and so wer...  1"
            ]
          },
          "metadata": {
            "tags": []
          },
          "execution_count": 101
        }
      ]
    },
    {
      "cell_type": "code",
      "metadata": {
        "id": "WyacLjsnLOpm"
      },
      "source": [
        "sentences = list(df[0])\n",
        "sentences2 = list(df2[0])\n",
        "labels = np.array(df[1])\n",
        "labels2 = np.array(df2[1])\n",
        "\n",
        "sentences = sentences + sentences2\n",
        "labels = np.hstack((labels, labels2))"
      ],
      "execution_count": null,
      "outputs": []
    },
    {
      "cell_type": "code",
      "metadata": {
        "colab": {
          "base_uri": "https://localhost:8080/"
        },
        "id": "c3pqn1tnlu1M",
        "outputId": "64eb823a-7aa0-4631-ff6f-499ee11943dc"
      },
      "source": [
        "print(sentences[0], labels[0])"
      ],
      "execution_count": null,
      "outputs": [
        {
          "output_type": "stream",
          "text": [
            "So there is no way for me to plug it in here in the US unless I go by a converter. tensor([1.])\n"
          ],
          "name": "stdout"
        }
      ]
    },
    {
      "cell_type": "code",
      "metadata": {
        "colab": {
          "base_uri": "https://localhost:8080/"
        },
        "id": "J0Z2cgpDMPpc",
        "outputId": "68710982-9c22-4e0e-fda5-aac548ad0e06"
      },
      "source": [
        "words = nltk.word_tokenize(sentences[6])\n",
        "words= [word.lower() for word in words if word.isalpha()]\n",
        "words"
      ],
      "execution_count": null,
      "outputs": [
        {
          "output_type": "execute_result",
          "data": {
            "text/plain": [
              "['if',\n",
              " 'you',\n",
              " 'have',\n",
              " 'several',\n",
              " 'dozen',\n",
              " 'or',\n",
              " 'several',\n",
              " 'hundred',\n",
              " 'contacts',\n",
              " 'then',\n",
              " 'imagine',\n",
              " 'the',\n",
              " 'fun',\n",
              " 'of',\n",
              " 'sending',\n",
              " 'each',\n",
              " 'of',\n",
              " 'them',\n",
              " 'one',\n",
              " 'by',\n",
              " 'one']"
            ]
          },
          "metadata": {
            "tags": []
          },
          "execution_count": 73
        }
      ]
    },
    {
      "cell_type": "code",
      "metadata": {
        "colab": {
          "base_uri": "https://localhost:8080/"
        },
        "id": "xLJbOVjGNEhr",
        "outputId": "d0049606-b9ca-4546-8fcf-c802a9126358"
      },
      "source": [
        "stopwords_english = stopwords \n",
        "print(stopwords_english)\n",
        "\n",
        "punc = string.punctuation\n",
        "print(punc)"
      ],
      "execution_count": null,
      "outputs": [
        {
          "output_type": "stream",
          "text": [
            "['i', 'me', 'my', 'myself', 'we', 'our', 'ours', 'ourselves', 'you', \"you're\", \"you've\", \"you'll\", \"you'd\", 'your', 'yours', 'yourself', 'yourselves', 'he', 'him', 'his', 'himself', 'she', \"she's\", 'her', 'hers', 'herself', 'it', \"it's\", 'its', 'itself', 'they', 'them', 'their', 'theirs', 'themselves', 'what', 'which', 'who', 'whom', 'this', 'that', \"that'll\", 'these', 'those', 'am', 'is', 'are', 'was', 'were', 'be', 'been', 'being', 'have', 'has', 'had', 'having', 'do', 'does', 'did', 'doing', 'a', 'an', 'the', 'and', 'but', 'if', 'or', 'because', 'as', 'until', 'while', 'of', 'at', 'by', 'for', 'with', 'about', 'against', 'between', 'into', 'through', 'during', 'before', 'after', 'above', 'below', 'to', 'from', 'up', 'down', 'in', 'out', 'on', 'off', 'over', 'under', 'again', 'further', 'then', 'once', 'here', 'there', 'when', 'where', 'why', 'how', 'all', 'any', 'both', 'each', 'few', 'more', 'most', 'other', 'some', 'such', 'no', 'nor', 'not', 'only', 'own', 'same', 'so', 'than', 'too', 'very', 's', 't', 'can', 'will', 'just', 'don', \"don't\", 'should', \"should've\", 'now', 'd', 'll', 'm', 'o', 're', 've', 'y', 'ain', 'aren', \"aren't\", 'couldn', \"couldn't\", 'didn', \"didn't\", 'doesn', \"doesn't\", 'hadn', \"hadn't\", 'hasn', \"hasn't\", 'haven', \"haven't\", 'isn', \"isn't\", 'ma', 'mightn', \"mightn't\", 'mustn', \"mustn't\", 'needn', \"needn't\", 'shan', \"shan't\", 'shouldn', \"shouldn't\", 'wasn', \"wasn't\", 'weren', \"weren't\", 'won', \"won't\", 'wouldn', \"wouldn't\"]\n",
            "!\"#$%&'()*+,-./:;<=>?@[\\]^_`{|}~\n"
          ],
          "name": "stdout"
        }
      ]
    },
    {
      "cell_type": "code",
      "metadata": {
        "colab": {
          "base_uri": "https://localhost:8080/"
        },
        "id": "RDR3OrZvNvzD",
        "outputId": "ec70c36a-6fe2-4083-d4a2-f9e062cd5ec8"
      },
      "source": [
        "clean_sample = []\n",
        "\n",
        "for word in tokens:\n",
        "  if word not in stopwords_english and word not in punc:\n",
        "    clean_sample.append(word)\n",
        "\n",
        "print(clean_sample)"
      ],
      "execution_count": null,
      "outputs": [
        {
          "output_type": "stream",
          "text": [
            "['way', 'plug', 'us', 'unless', 'go', 'converter']\n"
          ],
          "name": "stdout"
        }
      ]
    },
    {
      "cell_type": "code",
      "metadata": {
        "colab": {
          "base_uri": "https://localhost:8080/"
        },
        "id": "NutlyYckOtCs",
        "outputId": "f07c4183-ab64-4b0f-d1fc-cc943453cb7a"
      },
      "source": [
        "stemmer = PorterStemmer()\n",
        "\n",
        "stems = []\n",
        "for word in clean_sample:\n",
        "  stem = stemmer.stem(word)\n",
        "  stems.append(stem)\n",
        "\n",
        "stems"
      ],
      "execution_count": null,
      "outputs": [
        {
          "output_type": "execute_result",
          "data": {
            "text/plain": [
              "['way', 'plug', 'us', 'unless', 'go', 'convert']"
            ]
          },
          "metadata": {
            "tags": []
          },
          "execution_count": 59
        }
      ]
    },
    {
      "cell_type": "code",
      "metadata": {
        "colab": {
          "base_uri": "https://localhost:8080/"
        },
        "id": "o9T-jeyCPOcz",
        "outputId": "e82a8ec0-8332-47a1-a37e-8f42da4a4f6d"
      },
      "source": [
        "def process_sentence(sentence):\n",
        "  words = nltk.word_tokenize(sentence)\n",
        "  words = [word.lower() for word in words if word.isalpha()]\n",
        "\n",
        "  stopwords_english = stopwords.words() \n",
        "\n",
        "  clean_sample = []\n",
        "\n",
        "  for word in words:\n",
        "    if word not in stopwords_english:\n",
        "      clean_sample.append(word)\n",
        "\n",
        "  stemmer = PorterStemmer()\n",
        "  stems = []\n",
        "  for word in clean_sample:\n",
        "    stem = stemmer.stem(word)\n",
        "    stems.append(stem)\n",
        "\n",
        "  return stems\n",
        "\n",
        "print(sentences[6])\n",
        "print(process_sentence(sentences[6]))"
      ],
      "execution_count": null,
      "outputs": [
        {
          "output_type": "stream",
          "text": [
            "If you have several dozen or several hundred contacts, then imagine the fun of sending each of them one by one.\n",
            "['sever', 'dozen', 'sever', 'hundr', 'contact', 'imagin', 'fun', 'send']\n"
          ],
          "name": "stdout"
        }
      ]
    },
    {
      "cell_type": "code",
      "metadata": {
        "id": "qHZgAlrQTSeR"
      },
      "source": [
        "def count_words(sentences):\n",
        "  freqs = {}\n",
        "  for i, sentence in enumerate(sentences):\n",
        "    processed_sentence = process_sentence(sentence)\n",
        "\n",
        "    for word in processed_sentence:\n",
        "      if (word, labels[i]) in freqs.keys():\n",
        "        freqs[(word, labels[i])] += 1\n",
        "      else:\n",
        "        freqs[(word, labels[i])] = 1\n",
        "  return freqs\n",
        "\n",
        "freqs = count_words(sentences)"
      ],
      "execution_count": null,
      "outputs": []
    },
    {
      "cell_type": "code",
      "metadata": {
        "id": "2-Bpa7GGXBYA"
      },
      "source": [
        "def count_freqs(sentences, freqs):\n",
        "  X = np.zeros((len(sentences), 2))\n",
        "\n",
        "  for i, sentence in enumerate(sentences):\n",
        "    processed_sentence = process_sentence(sentence)\n",
        "\n",
        "    for word in processed_sentence:\n",
        "      X[i, 0] += freqs[(word, 0)] if (word, 0) in freqs.keys() else 0\n",
        "      X[i, 1] += freqs[(word, 1)] if (word, 1) in freqs.keys() else 0\n",
        "  \n",
        "  return X\n",
        "  \n",
        "X = count_freqs(sentences, freqs)\n",
        "Y = labels.reshape(-1, 1)"
      ],
      "execution_count": null,
      "outputs": []
    },
    {
      "cell_type": "code",
      "metadata": {
        "colab": {
          "base_uri": "https://localhost:8080/"
        },
        "id": "FB_9AMAyZAqJ",
        "outputId": "61163431-c497-42ef-e46b-97d3e7d75f01"
      },
      "source": [
        "data = np.concatenate((X,Y), axis=1)\n",
        "data.shape"
      ],
      "execution_count": null,
      "outputs": [
        {
          "output_type": "stream",
          "text": [
            "(2000, 2) (2000, 1)\n"
          ],
          "name": "stdout"
        },
        {
          "output_type": "execute_result",
          "data": {
            "text/plain": [
              "(2000, 3)"
            ]
          },
          "metadata": {
            "tags": []
          },
          "execution_count": 119
        }
      ]
    },
    {
      "cell_type": "markdown",
      "metadata": {
        "id": "XXn1yUQqJ0kj"
      },
      "source": [
        "## Logistic Regression"
      ]
    },
    {
      "cell_type": "code",
      "metadata": {
        "id": "tF9dVct_S21-"
      },
      "source": [
        "training_ratio = 0.8\n",
        "training_size = int(data.shape[0]*training_ratio)\n",
        "\n",
        "train_X = torch.Tensor(data[:training_size, :2])\n",
        "train_Y = torch.Tensor(data[:training_size, 2])\n",
        "test_X = torch.Tensor(data[training_size:, :2])\n",
        "test_Y = torch.Tensor(data[training_size:, 2])\n",
        "\n",
        "train_set = TensorDataset(train_X, train_Y)\n",
        "test_set = TensorDataset(test_X, test_Y)\n",
        "\n",
        "train_loader = DataLoader(train_set, batch_size=8, shuffle=True)\n",
        "test_loader = DataLoader(test_set)"
      ],
      "execution_count": null,
      "outputs": []
    },
    {
      "cell_type": "code",
      "metadata": {
        "colab": {
          "base_uri": "https://localhost:8080/"
        },
        "id": "fUpAEsOXFe7w",
        "outputId": "768f32ee-c819-43ec-f49a-3fce29a3669a"
      },
      "source": [
        "class LogisticRegression(nn.Module):\n",
        "  def __init__(self, dim):\n",
        "    super(LogisticRegression, self).__init__()\n",
        "    self.fc1 = nn.Linear(dim, 1)\n",
        "    self.sigmoid = nn.Sigmoid()\n",
        "\n",
        "  def forward(self, x):\n",
        "    x = self.fc1(x)\n",
        "    x = self.sigmoid(x)\n",
        "    return x\n",
        "\n",
        "model = LogisticRegression(2)\n",
        "model(torch.Tensor([[5,5]]))"
      ],
      "execution_count": null,
      "outputs": [
        {
          "output_type": "execute_result",
          "data": {
            "text/plain": [
              "tensor([[0.3168]], grad_fn=<SigmoidBackward>)"
            ]
          },
          "metadata": {
            "tags": []
          },
          "execution_count": 160
        }
      ]
    },
    {
      "cell_type": "code",
      "metadata": {
        "colab": {
          "base_uri": "https://localhost:8080/"
        },
        "id": "dxLcZ0aXI0wl",
        "outputId": "d0059f2f-17be-4c30-bff5-56887f8ac9e5"
      },
      "source": [
        "num_epoch = 500\n",
        "losses = []\n",
        "accuracies = []\n",
        "learning_rate = 0.00001\n",
        "optimizer = optim.SGD(model.parameters(), lr=learning_rate)\n",
        "criterion = nn.BCELoss()\n",
        "\n",
        "for epoch in range(num_epoch):\n",
        "  train_loss = 0.0\n",
        "  for batch, sample in enumerate(train_loader):\n",
        "    features, labels = sample\n",
        "    labels = labels.unsqueeze(1)\n",
        "    \n",
        "    optimizer.zero_grad()\n",
        "\n",
        "    outputs = model(features)\n",
        "    \n",
        "    loss = criterion(outputs, labels)\n",
        "    \n",
        "    loss.backward()\n",
        "    \n",
        "    optimizer.step()\n",
        "\n",
        "    train_loss += loss.item()\n",
        "\n",
        "  losses.append(train_loss)\n",
        "\n",
        "  if epoch%10 == 0:\n",
        "    print(\"Epoch: \", epoch, \"\\t Loss: \", train_loss/len(train_loader))"
      ],
      "execution_count": null,
      "outputs": [
        {
          "output_type": "stream",
          "text": [
            "Epoch:  0 \t Loss:  27.095404286384582\n",
            "Epoch:  10 \t Loss:  23.403183987736703\n",
            "Epoch:  20 \t Loss:  17.22718613266945\n",
            "Epoch:  30 \t Loss:  11.244405031204224\n",
            "Epoch:  40 \t Loss:  0.5010147988796234\n",
            "Epoch:  50 \t Loss:  0.4849327639490366\n",
            "Epoch:  60 \t Loss:  0.48357997395098207\n",
            "Epoch:  70 \t Loss:  0.48300232164561746\n",
            "Epoch:  80 \t Loss:  0.48290435910224916\n",
            "Epoch:  90 \t Loss:  0.48301192104816437\n",
            "Epoch:  100 \t Loss:  0.48280226476490495\n",
            "Epoch:  110 \t Loss:  0.4824036371707916\n",
            "Epoch:  120 \t Loss:  0.48308413103222847\n",
            "Epoch:  130 \t Loss:  0.4828398561477661\n",
            "Epoch:  140 \t Loss:  0.4829742429405451\n",
            "Epoch:  150 \t Loss:  0.4828833883628249\n",
            "Epoch:  160 \t Loss:  0.4830832676962018\n",
            "Epoch:  170 \t Loss:  0.4823551890999079\n",
            "Epoch:  180 \t Loss:  0.48314685840159655\n",
            "Epoch:  190 \t Loss:  0.4826016634702682\n",
            "Epoch:  200 \t Loss:  0.4815862651541829\n",
            "Epoch:  210 \t Loss:  0.4826547375693917\n",
            "Epoch:  220 \t Loss:  0.48263112440705297\n",
            "Epoch:  230 \t Loss:  0.4828855089098215\n",
            "Epoch:  240 \t Loss:  0.4827847657725215\n",
            "Epoch:  250 \t Loss:  0.48228908360004424\n",
            "Epoch:  260 \t Loss:  0.48169540375471115\n",
            "Epoch:  270 \t Loss:  0.48251019459217787\n",
            "Epoch:  280 \t Loss:  0.48251111775636674\n",
            "Epoch:  290 \t Loss:  0.481980748064816\n",
            "Epoch:  300 \t Loss:  0.4823113667219877\n",
            "Epoch:  310 \t Loss:  0.48245629280805585\n",
            "Epoch:  320 \t Loss:  0.4818404147028923\n",
            "Epoch:  330 \t Loss:  0.4823081323131919\n",
            "Epoch:  340 \t Loss:  0.4823872569203377\n",
            "Epoch:  350 \t Loss:  0.4815639254078269\n",
            "Epoch:  360 \t Loss:  0.4822203797847033\n",
            "Epoch:  370 \t Loss:  0.4820083712041378\n",
            "Epoch:  380 \t Loss:  0.48190391026437285\n",
            "Epoch:  390 \t Loss:  0.48176720410585405\n",
            "Epoch:  400 \t Loss:  0.4814036113768816\n",
            "Epoch:  410 \t Loss:  0.48199285060167313\n",
            "Epoch:  420 \t Loss:  0.481497365385294\n",
            "Epoch:  430 \t Loss:  0.48199874196201564\n",
            "Epoch:  440 \t Loss:  0.48196558076888324\n",
            "Epoch:  450 \t Loss:  0.4810423573479056\n",
            "Epoch:  460 \t Loss:  0.4814321035146713\n",
            "Epoch:  470 \t Loss:  0.48187675001099706\n",
            "Epoch:  480 \t Loss:  0.4812927270960063\n",
            "Epoch:  490 \t Loss:  0.48175488986074927\n"
          ],
          "name": "stdout"
        }
      ]
    },
    {
      "cell_type": "code",
      "metadata": {
        "id": "FJrflbMTcHQb"
      },
      "source": [
        "torch.save(model.state_dict(), \"./LogisticReg1.pth\")"
      ],
      "execution_count": null,
      "outputs": []
    },
    {
      "cell_type": "code",
      "metadata": {
        "colab": {
          "base_uri": "https://localhost:8080/"
        },
        "id": "8VWELKH1fGXe",
        "outputId": "9d83d2f1-6ae8-4028-9384-33a834f61b24"
      },
      "source": [
        "test_loss = 0.0\n",
        "accuracy = 0.0\n",
        "for sample in test_loader:\n",
        "  feature, label = sample\n",
        "\n",
        "  label = label.unsqueeze(1)\n",
        "  output = model(feature)\n",
        "\n",
        "  loss = criterion(output, label)\n",
        "  test_loss += loss.item()\n",
        "\n",
        "  output = (output >= 0.5)*1.0\n",
        "\n",
        "  accuracy += (output == label)*1.0  \n",
        "\n",
        "accuracy = accuracy.detach().numpy().item()\n",
        "print(\"Loss: \", test_loss/len(test_loader), \"\\tAccuracy: \", (accuracy/len(test_loader))*100, \"%\")"
      ],
      "execution_count": null,
      "outputs": [
        {
          "output_type": "stream",
          "text": [
            "Loss:  0.47895539552283944 \tAccuracy:  81.0\n"
          ],
          "name": "stdout"
        }
      ]
    },
    {
      "cell_type": "code",
      "metadata": {
        "colab": {
          "base_uri": "https://localhost:8080/"
        },
        "id": "a1k7YdfXf0W6",
        "outputId": "52b2936d-5519-4548-faa9-82daeb74bb9c"
      },
      "source": [
        "def predict(sentence):\n",
        "  sent = [sentence]\n",
        "  input_features = count_freqs(sent, freqs)\n",
        "  input_tensor = torch.Tensor(input_features)\n",
        "  output = model(input_tensor)\n",
        "\n",
        "  prediction = (output >= 0.5)*1.0\n",
        "\n",
        "  if not prediction:\n",
        "    output = 1-output\n",
        "\n",
        "  return output.item(), prediction.item()\n",
        "\n",
        "prob, pred = predict(\"This product is great however it is a little overpriced\")\n",
        "\n",
        "if not pred:\n",
        "  print(\"Predicted negative with probability: \", prob)\n",
        "else:\n",
        "  print(\"Predicted positive with probability: \", prob)\n"
      ],
      "execution_count": null,
      "outputs": [
        {
          "output_type": "stream",
          "text": [
            "Predicted positive with probability:  0.997711181640625\n"
          ],
          "name": "stdout"
        }
      ]
    },
    {
      "cell_type": "code",
      "metadata": {
        "id": "lF82miWmjr18"
      },
      "source": [
        ""
      ],
      "execution_count": null,
      "outputs": []
    }
  ]
}