{
  "nbformat": 4,
  "nbformat_minor": 0,
  "metadata": {
    "colab": {
      "name": "LinearRegression.ipynb",
      "provenance": [],
      "collapsed_sections": []
    },
    "kernelspec": {
      "name": "python3",
      "display_name": "Python 3"
    }
  },
  "cells": [
    {
      "cell_type": "markdown",
      "metadata": {
        "id": "eljr0eq5GR46"
      },
      "source": [
        "###Importing the Data\n",
        "The dataset can be found [here](https://www.kaggle.com/karthickveerakumar/salary-data-simple-linear-regression)<br/>\n",
        "You can either directly upload to the notebook, or if you are using Google Colab you can upload the dataset to drive and copy it using the codeblock below.\n",
        "If running on your local notebook, you dont need to run the codeblock below."
      ]
    },
    {
      "cell_type": "code",
      "metadata": {
        "id": "1tXtjwBXtnSq"
      },
      "source": [
        "!cp drive/My\\ Drive/Salary_Data.csv ."
      ],
      "execution_count": 1,
      "outputs": []
    },
    {
      "cell_type": "code",
      "metadata": {
        "id": "oLbEsuvqG8ee"
      },
      "source": [
        "!pip install celluloid"
      ],
      "execution_count": null,
      "outputs": []
    },
    {
      "cell_type": "code",
      "metadata": {
        "id": "0rAyh8hjtyZS"
      },
      "source": [
        "import pandas as pd\n",
        "import numpy as np\n",
        "import matplotlib.pyplot as plt\n",
        "from celluloid import Camera\n",
        "from IPython.display import HTML\n",
        "\n",
        "df = pd.read_csv(\"Salary_Data.csv\")\n",
        "dataset = np.array(df)\n",
        "X = dataset[:, 0]\n",
        "Y = dataset[:, 1]\n",
        "Y=Y/1e3"
      ],
      "execution_count": 6,
      "outputs": []
    },
    {
      "cell_type": "code",
      "metadata": {
        "id": "l0o1l5ZfDhHq"
      },
      "source": [
        "X_train = X[:25]\n",
        "Y_train = Y[:25]\n",
        "X_test = X[25:]\n",
        "Y_test = Y[25:]"
      ],
      "execution_count": 31,
      "outputs": []
    },
    {
      "cell_type": "code",
      "metadata": {
        "colab": {
          "base_uri": "https://localhost:8080/",
          "height": 282
        },
        "id": "9wv32siR7cl7",
        "outputId": "65d55c0b-78f3-4cf9-bb73-f97ac8f5f47a"
      },
      "source": [
        "plt.scatter(X, Y)"
      ],
      "execution_count": 4,
      "outputs": [
        {
          "output_type": "execute_result",
          "data": {
            "text/plain": [
              "<matplotlib.collections.PathCollection at 0x7fb67f115d30>"
            ]
          },
          "metadata": {
            "tags": []
          },
          "execution_count": 4
        },
        {
          "output_type": "display_data",
          "data": {
            "image/png": "[encoded data removed]",
            "text/plain": [
              "<Figure size 432x288 with 1 Axes>"
            ]
          },
          "metadata": {
            "tags": [],
            "needs_background": "light"
          }
        }
      ]
    },
    {
      "cell_type": "code",
      "metadata": {
        "id": "w21AiCSnuALw"
      },
      "source": [
        "class LinearRegression:\n",
        "  def __init__(self, dim, lr, max_it, tol):\n",
        "    self.W = -10.22739516\n",
        "    self.b = 100\n",
        "    self.learning_rate = lr\n",
        "    self.max_it = max_it\n",
        "    self.tolerance = tol\n",
        "    self.weight_history = []\n",
        "    self.loss_history = []\n",
        "\n",
        "  def train(self, X_train, Y_train, toPrint = False):\n",
        "    for it in range(self.max_it):\n",
        "      if it != 0 and np.linalg.norm(np.array(self.weight_history[-1]) - np.array([self.W, self.b])) < self.tolerance:\n",
        "        break\n",
        "      self.weight_history.append([self.W, self.b])\n",
        "      y_hat = self.W*X_train + self.b\n",
        "      loss = self.loss_function(y_hat, Y_train)\n",
        "      if toPrint:\n",
        "        print(\"Iteration: \", it, \" Loss: \", loss)\n",
        "      self.loss_history.append(loss)\n",
        "      #Gradients\n",
        "      grad_w = 2*np.mean((y_hat - Y_train) * X_train)\n",
        "      grad_b = 2*np.mean((y_hat - Y_train))\n",
        "\n",
        "      #Updates\n",
        "      self.W -= self.learning_rate * grad_w\n",
        "      self.b -= self.learning_rate * grad_b\n",
        "    print(\"Training Complete\")\n",
        "  \n",
        "  def loss_function(self, y_hat, Y):\n",
        "    return np.mean((y_hat - Y)**2)\n",
        "\n",
        "  def test(self, X_test, Y_test):\n",
        "    y_test_hat = self.W * X_test + self.b\n",
        "    return self.loss_function(y_test_hat, Y_test)\n",
        "\n",
        "  def predict(self, x_to_predict):\n",
        "    if x_to_predict < 0:\n",
        "      raise Exception(\"Experience cannot be below 0!\")\n",
        "    return self.W * x_to_predict + self.b\n",
        "\n",
        "  def plotTheLine(self):\n",
        "    plot_x = np.arange(0, 11, 0.1)\n",
        "    plot_y = (model.W*plot_x + model.b).reshape(-1,)\n",
        "\n",
        "    plt.figure(figsize=(8,6))\n",
        "    plt.plot(plot_x, plot_y, c='r')\n",
        "    plt.scatter(X, Y, s=10)\n",
        "    plt.xlabel(\"Experience (years)\")\n",
        "    plt.ylabel(\"Annual Salary (in $)\")\n",
        "    plt.show()\n",
        "\n",
        "  def animateChange(self, changeSpeed = 10):\n",
        "    fig = plt.figure()\n",
        "    camera = Camera(fig)\n",
        "    for i in range(0, len(model.weight_history), 10):\n",
        "      x = np.arange(0, 11, 0.1)\n",
        "      y = model.weight_history[i][0] * x + model.weight_history[i][1]\n",
        "      y = y.reshape(-1)\n",
        "      plt.plot(x, y, c='r')\n",
        "      plt.scatter(X, Y, s=10, c='b')\n",
        "      plt.xlabel(\"Experience (years)\")\n",
        "      plt.ylabel(\"Annual Salary (in $)\")\n",
        "      camera.snap()\n",
        "\n",
        "    animation = camera.animate()\n",
        "    return animation\n",
        "  def animateLoss(self, changeSpeed = 10):\n",
        "    fig = plt.figure()\n",
        "    camera = Camera(fig)\n",
        "    for i in range(0, 100):\n",
        "      plt.plot(model.loss_history[:i], c='b')\n",
        "      plt.xlabel(\"Iteration\")\n",
        "      plt.ylabel(\"Loss Value\")\n",
        "      camera.snap()\n",
        "\n",
        "    animation = camera.animate()\n",
        "    return animation"
      ],
      "execution_count": 71,
      "outputs": []
    },
    {
      "cell_type": "markdown",
      "metadata": {
        "id": "hH9lydDIBMAQ"
      },
      "source": [
        "###Initialize the model"
      ]
    },
    {
      "cell_type": "code",
      "metadata": {
        "id": "NJm_bNhEzpZX"
      },
      "source": [
        "### HyperParameters ###\n",
        "\n",
        "dimension = 1\n",
        "learning_rate = 0.0385\n",
        "max_iteration = 200\n",
        "tolerance = 1e-5\n",
        "\n",
        "#######################\n",
        "\n",
        "model = LinearRegression(1, 0.0385, 200, 1e-5)"
      ],
      "execution_count": 72,
      "outputs": []
    },
    {
      "cell_type": "markdown",
      "metadata": {
        "id": "YWchXX2wBNse"
      },
      "source": [
        "###Plot the initial untrained line"
      ]
    },
    {
      "cell_type": "code",
      "metadata": {
        "colab": {
          "base_uri": "https://localhost:8080/",
          "height": 388
        },
        "id": "3hhwet9-Kdqg",
        "outputId": "97c761ff-8bea-4f33-e0f3-4db06e10b765"
      },
      "source": [
        "model.plotTheLine()"
      ],
      "execution_count": 73,
      "outputs": [
        {
          "output_type": "display_data",
          "data": {
            "image/png": "[encoded data removed]",
            "text/plain": [
              "<Figure size 576x432 with 1 Axes>"
            ]
          },
          "metadata": {
            "tags": [],
            "needs_background": "light"
          }
        }
      ]
    },
    {
      "cell_type": "markdown",
      "metadata": {
        "id": "Ol00K3hVB9lK"
      },
      "source": [
        "###Train the model"
      ]
    },
    {
      "cell_type": "code",
      "metadata": {
        "id": "qtARr6pMzuSk",
        "colab": {
          "base_uri": "https://localhost:8080/"
        },
        "outputId": "ea9f00aa-cf5f-405e-e05c-1941a30c0553"
      },
      "source": [
        "model.train(X_train, Y_train, False)"
      ],
      "execution_count": 74,
      "outputs": [
        {
          "output_type": "stream",
          "text": [
            "Training Complete\n"
          ],
          "name": "stdout"
        }
      ]
    },
    {
      "cell_type": "markdown",
      "metadata": {
        "id": "Ue2XZ5_dE52b"
      },
      "source": [
        "###Final trained model"
      ]
    },
    {
      "cell_type": "code",
      "metadata": {
        "colab": {
          "base_uri": "https://localhost:8080/",
          "height": 388
        },
        "id": "w0buA5Kf70EJ",
        "outputId": "4528d653-8a9d-4b09-9ade-f9cdc64d44fc"
      },
      "source": [
        "model.plotTheLine()"
      ],
      "execution_count": 75,
      "outputs": [
        {
          "output_type": "display_data",
          "data": {
            "image/png": "[encoded data removed]",
            "text/plain": [
              "<Figure size 576x432 with 1 Axes>"
            ]
          },
          "metadata": {
            "tags": [],
            "needs_background": "light"
          }
        }
      ]
    },
    {
      "cell_type": "markdown",
      "metadata": {
        "id": "GM8I4m_PE-HB"
      },
      "source": [
        "###Animations of change of the model and loss"
      ]
    },
    {
      "cell_type": "code",
      "metadata": {
        "id": "FaIyD-1VCRI9"
      },
      "source": [
        "animation = model.animateChange()\n",
        "HTML(animation.to_html5_video())"
      ],
      "execution_count": null,
      "outputs": []
    },
    {
      "cell_type": "code",
      "metadata": {
        "id": "wvuQzGAUCp0K"
      },
      "source": [
        "animation = model.animateLoss()\n",
        "HTML(animation.to_html5_video())"
      ],
      "execution_count": null,
      "outputs": []
    },
    {
      "cell_type": "markdown",
      "metadata": {
        "id": "lv_lcLrmDENX"
      },
      "source": [
        "###Testing the model"
      ]
    },
    {
      "cell_type": "code",
      "metadata": {
        "colab": {
          "base_uri": "https://localhost:8080/"
        },
        "id": "F1Iuvv42DF1g",
        "outputId": "aa61c6d4-ff1f-4110-ddaa-d3f9d4fe0e08"
      },
      "source": [
        "test_loss = model.test(X_test, Y_test)\n",
        "print(\"The model predicted unseen data with \", test_loss, \"k$ difference\")"
      ],
      "execution_count": 76,
      "outputs": [
        {
          "output_type": "stream",
          "text": [
            "The model predicted unseen data with  9.403194504840554 k$ difference\n"
          ],
          "name": "stdout"
        }
      ]
    },
    {
      "cell_type": "markdown",
      "metadata": {
        "id": "t3xAHOTSDuRQ"
      },
      "source": [
        "###Predictions\n",
        "Try different values of experience years, and get the approximate salary"
      ]
    },
    {
      "cell_type": "code",
      "metadata": {
        "colab": {
          "base_uri": "https://localhost:8080/"
        },
        "id": "zgEnHZ5DDJcb",
        "outputId": "6972cee0-5744-4e04-b890-2166767fbd29"
      },
      "source": [
        "ExperienceYears = 2\n",
        "salary = model.predict(ExperienceYears)\n",
        "print(\"With \", ExperienceYears, \" years of experience, the annual salary should be \", salary*1e3, \"$\")"
      ],
      "execution_count": 77,
      "outputs": [
        {
          "output_type": "stream",
          "text": [
            "With  2  years of experience, the annual salary should be  46795.600790280856 $\n"
          ],
          "name": "stdout"
        }
      ]
    }
  ]
}